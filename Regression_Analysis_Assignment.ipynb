{
  "nbformat": 4,
  "nbformat_minor": 0,
  "metadata": {
    "kernelspec": {
      "display_name": "Python 3",
      "language": "python",
      "name": "python3"
    },
    "language_info": {
      "codemirror_mode": {
        "name": "ipython",
        "version": 3
      },
      "file_extension": ".py",
      "mimetype": "text/x-python",
      "name": "python",
      "nbconvert_exporter": "python",
      "pygments_lexer": "ipython3",
      "version": "3.7.4"
    },
    "colab": {
      "name": "Assignment_2_completed.ipynb",
      "provenance": [],
      "collapsed_sections": []
    }
  },
  "cells": [
    {
      "cell_type": "markdown",
      "metadata": {
        "id": "4pLPFkd6RcHg"
      },
      "source": [
        "# Assignment 2  <font color=\"blue\"> (15 points) </font>\n",
        "Due on 02/12/2019, at 10 PM\n",
        "***\n",
        "\n",
        "### General Instructions\n",
        "  + The Python standard library is not enough to do solve these questions. You will need to import appropriate libraries for each task. In case there are multiple libraries that can be used for the same purpose, you might import and use any one you wish unless otherwise stated. \n",
        "  + Name variables and functions as requested.\n",
        "  + After each question, add the needed number of new cells and place your answers inside the cells. \n",
        "  + When you are required to explain or answer in text format open a Markdown cell and enter your answer in it.\n",
        "  + Do not remove or modify the original cells provided by the instructor.\n",
        "  + Comment your code whenever needed using # sign at the beginning of the row.\n",
        "  + Do not hesitate to communicate your questions to the TA's or instructors. \n",
        "  \n",
        "  Good luck! "
      ]
    },
    {
      "cell_type": "code",
      "metadata": {
        "id": "BDehO2e-RcHp"
      },
      "source": [
        "\n",
        "# The following piece of code gives the opportunity to show multiple outputs\n",
        "# in one cell:\n",
        "from IPython.core.interactiveshell import InteractiveShell\n",
        "InteractiveShell.ast_node_interactivity = \"all\"\n",
        "\n",
        "\n",
        "# Colorful outputs\n",
        "class bcolors:\n",
        "    RED       = '\\033[91m'\n",
        "    OKBLUE    = '\\033[94m'\n",
        "    BOLD      = '\\033[1m'\n",
        "    UNDERLINE = '\\033[4m'\n",
        "    ENDC      = '\\033[0m'"
      ],
      "execution_count": null,
      "outputs": []
    },
    {
      "cell_type": "code",
      "metadata": {
        "id": "8fHsJ2IxS7yJ"
      },
      "source": [
        "import numpy as np\n",
        "import pandas as pd\n",
        "from pylab import rcParams\n",
        "import seaborn as sb \n",
        "from sklearn.preprocessing import scale\n",
        "from collections import Counter\n",
        "from sklearn import linear_model\n",
        "from sklearn import datasets\n",
        "import statsmodels.api as sm\n",
        "from sklearn.linear_model import LogisticRegression\n",
        "import matplotlib.pyplot as plt\n",
        "import datetime as dt\n",
        "%matplotlib inline\n",
        "rcParams['figure.figsize'] = 5,4\n",
        "sb.set_style('whitegrid')"
      ],
      "execution_count": null,
      "outputs": []
    },
    {
      "cell_type": "code",
      "metadata": {
        "id": "O1Zn7-SYlDju",
        "colab": {
          "base_uri": "https://localhost:8080/",
          "height": 35
        },
        "outputId": "c47b22b9-1a1f-4d93-ea03-ff06ede3ba65"
      },
      "source": [
        "L = [0,1,2,3,4,5,6,7]\n",
        "L.insert(2,5)\n",
        "print(L)"
      ],
      "execution_count": null,
      "outputs": [
        {
          "output_type": "stream",
          "text": [
            "[0, 1, 5, 2, 3, 4, 5, 6, 7]\n"
          ],
          "name": "stdout"
        }
      ]
    },
    {
      "cell_type": "markdown",
      "metadata": {
        "id": "pEKKGTcsRcHw"
      },
      "source": [
        "1.  <font color=blue> (0.5 points) </font> Download `Credit.csv` from <http://faculty.marshall.usc.edu/gareth-james/ISL/data.html> and upload it into this notebook. Print the first $5$ rows of the data. \n",
        "2.  <font color=blue> (1.5 point) </font> Using appropriate descriptive statistics or visualization methods describe the variables and possible association amongst them. Interpret the results. \n",
        "3.  <font color=blue> (0.5 points)</font> Keep only `Income`, `Limit`, `Rating`, `Cards`, `Age`, `Education`, and `Balance` as your variables and throw the rest of variables away. Print the dimension of this new dataset. \n",
        "4.  <font color=blue> (1.5 points) </font> Create a binary variable `Balance_1500` which equals $1$ for the observations with `Balance` $> 1500$, and equals $0$ otherwise.\n",
        "5. <font color=blue> (2 points) </font> Applying linear regression, model `Balance` simultaneously based on \n",
        "  `Income`, `Limit`, `Rating`, `Cards`, `Age`, `Education`.\n",
        "6. <font color=blue> (1 point) </font> Using the obtained model, compare the independent variables effect size on the response?  \n",
        "7.  <font color=blue> (6 points) </font> Model `Balance_1500` by the explanatory variables mentionned in Step 5 using the following models: \n",
        "    + logistic regression, \n",
        "    + linear discriminant, and \n",
        "    + quadratic discriminant.\n",
        "8. <font color=blue> (0.5 points) </font> Find the probability of (`Balance` $> 1500$), for the following values, using all three aforementionned methods:\n",
        "\n",
        "|    Income    |    Limit     |     Rating     |    Cards     |      Age        |   Education   | \n",
        "|--------------|--------------|----------------|--------------|-----------------|---------------|\n",
        "|      63      |    8100      |     600        |      4       |       30        |      13       |\n",
        "|     186      |    13414     |     950        |      2       |       41        |      13       |\n",
        "\n",
        "Compare the probabilities and comment.\n",
        "    \n",
        "9. <font color=blue> (1.5 points) </font> For each method, print the confusion matrix, the accuracy score and the AUC using all observations. Compare these metrics and comment. "
      ]
    },
    {
      "cell_type": "code",
      "metadata": {
        "id": "Q6dxJKrrWCef",
        "colab": {
          "resources": {
            "http://localhost:8080/nbextensions/google.colab/files.js": {
              "data": "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",
              "ok": true,
              "headers": [
                [
                  "content-type",
                  "application/javascript"
                ]
              ],
              "status": 200,
              "status_text": ""
            }
          },
          "base_uri": "https://localhost:8080/",
          "height": 75
        },
        "outputId": "3ee3d824-a31e-4469-e842-414563ba2020"
      },
      "source": [
        "#1)\n",
        "from google.colab import files\n",
        "uploaded = files.upload()"
      ],
      "execution_count": null,
      "outputs": [
        {
          "output_type": "display_data",
          "data": {
            "text/html": [
              "\n",
              "     <input type=\"file\" id=\"files-924c1655-09ea-457c-b1e3-fdbe0c8c2b65\" name=\"files[]\" multiple disabled />\n",
              "     <output id=\"result-924c1655-09ea-457c-b1e3-fdbe0c8c2b65\">\n",
              "      Upload widget is only available when the cell has been executed in the\n",
              "      current browser session. Please rerun this cell to enable.\n",
              "      </output>\n",
              "      <script src=\"/nbextensions/google.colab/files.js\"></script> "
            ],
            "text/plain": [
              "<IPython.core.display.HTML object>"
            ]
          },
          "metadata": {
            "tags": []
          }
        },
        {
          "output_type": "stream",
          "text": [
            "Saving Credit.csv to Credit.csv\n"
          ],
          "name": "stdout"
        }
      ]
    },
    {
      "cell_type": "code",
      "metadata": {
        "id": "LOxsFel7WsEF",
        "colab": {
          "base_uri": "https://localhost:8080/",
          "height": 202
        },
        "outputId": "b8da4d5c-c5b3-482f-d8f5-4d364fca1796"
      },
      "source": [
        "credit_data = pd.read_csv('Credit.csv')\n",
        "\n",
        "credit_data = credit_data.drop('Unnamed: 0',axis=1)\n",
        "\n",
        "\n",
        "credit_data['student_factor'] = credit_data.Student.factorize()[0]\n",
        "credit_data['married_factor'] = credit_data.Married.factorize()[0]\n",
        "\n",
        "credit_data.head() #leaving between blank will give first 5 by default\n",
        "\n",
        "\n"
      ],
      "execution_count": null,
      "outputs": [
        {
          "output_type": "execute_result",
          "data": {
            "text/html": [
              "<div>\n",
              "<style scoped>\n",
              "    .dataframe tbody tr th:only-of-type {\n",
              "        vertical-align: middle;\n",
              "    }\n",
              "\n",
              "    .dataframe tbody tr th {\n",
              "        vertical-align: top;\n",
              "    }\n",
              "\n",
              "    .dataframe thead th {\n",
              "        text-align: right;\n",
              "    }\n",
              "</style>\n",
              "<table border=\"1\" class=\"dataframe\">\n",
              "  <thead>\n",
              "    <tr style=\"text-align: right;\">\n",
              "      <th></th>\n",
              "      <th>Income</th>\n",
              "      <th>Limit</th>\n",
              "      <th>Rating</th>\n",
              "      <th>Cards</th>\n",
              "      <th>Age</th>\n",
              "      <th>Education</th>\n",
              "      <th>Gender</th>\n",
              "      <th>Student</th>\n",
              "      <th>Married</th>\n",
              "      <th>Ethnicity</th>\n",
              "      <th>Balance</th>\n",
              "      <th>student_factor</th>\n",
              "      <th>married_factor</th>\n",
              "    </tr>\n",
              "  </thead>\n",
              "  <tbody>\n",
              "    <tr>\n",
              "      <th>0</th>\n",
              "      <td>14.891</td>\n",
              "      <td>3606</td>\n",
              "      <td>283</td>\n",
              "      <td>2</td>\n",
              "      <td>34</td>\n",
              "      <td>11</td>\n",
              "      <td>Male</td>\n",
              "      <td>No</td>\n",
              "      <td>Yes</td>\n",
              "      <td>Caucasian</td>\n",
              "      <td>333</td>\n",
              "      <td>0</td>\n",
              "      <td>0</td>\n",
              "    </tr>\n",
              "    <tr>\n",
              "      <th>1</th>\n",
              "      <td>106.025</td>\n",
              "      <td>6645</td>\n",
              "      <td>483</td>\n",
              "      <td>3</td>\n",
              "      <td>82</td>\n",
              "      <td>15</td>\n",
              "      <td>Female</td>\n",
              "      <td>Yes</td>\n",
              "      <td>Yes</td>\n",
              "      <td>Asian</td>\n",
              "      <td>903</td>\n",
              "      <td>1</td>\n",
              "      <td>0</td>\n",
              "    </tr>\n",
              "    <tr>\n",
              "      <th>2</th>\n",
              "      <td>104.593</td>\n",
              "      <td>7075</td>\n",
              "      <td>514</td>\n",
              "      <td>4</td>\n",
              "      <td>71</td>\n",
              "      <td>11</td>\n",
              "      <td>Male</td>\n",
              "      <td>No</td>\n",
              "      <td>No</td>\n",
              "      <td>Asian</td>\n",
              "      <td>580</td>\n",
              "      <td>0</td>\n",
              "      <td>1</td>\n",
              "    </tr>\n",
              "    <tr>\n",
              "      <th>3</th>\n",
              "      <td>148.924</td>\n",
              "      <td>9504</td>\n",
              "      <td>681</td>\n",
              "      <td>3</td>\n",
              "      <td>36</td>\n",
              "      <td>11</td>\n",
              "      <td>Female</td>\n",
              "      <td>No</td>\n",
              "      <td>No</td>\n",
              "      <td>Asian</td>\n",
              "      <td>964</td>\n",
              "      <td>0</td>\n",
              "      <td>1</td>\n",
              "    </tr>\n",
              "    <tr>\n",
              "      <th>4</th>\n",
              "      <td>55.882</td>\n",
              "      <td>4897</td>\n",
              "      <td>357</td>\n",
              "      <td>2</td>\n",
              "      <td>68</td>\n",
              "      <td>16</td>\n",
              "      <td>Male</td>\n",
              "      <td>No</td>\n",
              "      <td>Yes</td>\n",
              "      <td>Caucasian</td>\n",
              "      <td>331</td>\n",
              "      <td>0</td>\n",
              "      <td>0</td>\n",
              "    </tr>\n",
              "  </tbody>\n",
              "</table>\n",
              "</div>"
            ],
            "text/plain": [
              "    Income  Limit  Rating  ...  Balance  student_factor  married_factor\n",
              "0   14.891   3606     283  ...      333               0               0\n",
              "1  106.025   6645     483  ...      903               1               0\n",
              "2  104.593   7075     514  ...      580               0               1\n",
              "3  148.924   9504     681  ...      964               0               1\n",
              "4   55.882   4897     357  ...      331               0               0\n",
              "\n",
              "[5 rows x 13 columns]"
            ]
          },
          "metadata": {
            "tags": []
          },
          "execution_count": 69
        }
      ]
    },
    {
      "cell_type": "code",
      "metadata": {
        "id": "LUDHnvd9myHU",
        "colab": {
          "base_uri": "https://localhost:8080/",
          "height": 1000
        },
        "outputId": "3a9343b2-0d59-4b35-ce26-eee3ee61e45d"
      },
      "source": [
        "#2) to do afterwards\n",
        "corr = credit_data.corr()\n",
        "fig = plt.figure()\n",
        "ax = fig.add_subplot(111)\n",
        "cax = ax.matshow(corr,cmap='coolwarm', vmin=-1, vmax=1)\n",
        "fig.colorbar(cax)\n",
        "ticks = np.arange(0,len(credit_data.columns),1)\n",
        "ax.set_xticks(ticks)\n",
        "plt.xticks(rotation=90)\n",
        "ax.set_yticks(ticks)\n",
        "ax.set_xticklabels(credit_data.columns)\n",
        "ax.set_yticklabels(credit_data.columns)\n",
        "plt.show()\n",
        "#this gives basic correlation chart"
      ],
      "execution_count": null,
      "outputs": [
        {
          "output_type": "execute_result",
          "data": {
            "text/plain": [
              "<matplotlib.colorbar.Colorbar at 0x7fea0b345a58>"
            ]
          },
          "metadata": {
            "tags": []
          },
          "execution_count": 70
        },
        {
          "output_type": "execute_result",
          "data": {
            "text/plain": [
              "[<matplotlib.axis.XTick at 0x7fea0b3f6208>,\n",
              " <matplotlib.axis.XTick at 0x7fea0b3eaa58>,\n",
              " <matplotlib.axis.XTick at 0x7fea0b39a1d0>,\n",
              " <matplotlib.axis.XTick at 0x7fea0b3574a8>,\n",
              " <matplotlib.axis.XTick at 0x7fea0b357978>,\n",
              " <matplotlib.axis.XTick at 0x7fea0b357eb8>,\n",
              " <matplotlib.axis.XTick at 0x7fea0b358470>,\n",
              " <matplotlib.axis.XTick at 0x7fea0b3589e8>,\n",
              " <matplotlib.axis.XTick at 0x7fea0b358f60>,\n",
              " <matplotlib.axis.XTick at 0x7fea0b362518>,\n",
              " <matplotlib.axis.XTick at 0x7fea0b362a90>,\n",
              " <matplotlib.axis.XTick at 0x7fea0b362e48>,\n",
              " <matplotlib.axis.XTick at 0x7fea0b3695c0>]"
            ]
          },
          "metadata": {
            "tags": []
          },
          "execution_count": 70
        },
        {
          "output_type": "execute_result",
          "data": {
            "text/plain": [
              "(array([ 0,  1,  2,  3,  4,  5,  6,  7,  8,  9, 10, 11, 12]),\n",
              " <a list of 13 Text xticklabel objects>)"
            ]
          },
          "metadata": {
            "tags": []
          },
          "execution_count": 70
        },
        {
          "output_type": "execute_result",
          "data": {
            "text/plain": [
              "[<matplotlib.axis.YTick at 0x7fea0b3fb0b8>,\n",
              " <matplotlib.axis.YTick at 0x7fea0b3f6908>,\n",
              " <matplotlib.axis.YTick at 0x7fea0b362f98>,\n",
              " <matplotlib.axis.YTick at 0x7fea0b357550>,\n",
              " <matplotlib.axis.YTick at 0x7fea0b369a20>,\n",
              " <matplotlib.axis.YTick at 0x7fea0b369ef0>,\n",
              " <matplotlib.axis.YTick at 0x7fea0b36e438>,\n",
              " <matplotlib.axis.YTick at 0x7fea0b36e9b0>,\n",
              " <matplotlib.axis.YTick at 0x7fea0b36ef28>,\n",
              " <matplotlib.axis.YTick at 0x7fea0b3784e0>,\n",
              " <matplotlib.axis.YTick at 0x7fea0b378a58>,\n",
              " <matplotlib.axis.YTick at 0x7fea0b378e80>,\n",
              " <matplotlib.axis.YTick at 0x7fea0b36e8d0>]"
            ]
          },
          "metadata": {
            "tags": []
          },
          "execution_count": 70
        },
        {
          "output_type": "execute_result",
          "data": {
            "text/plain": [
              "[Text(0, 1, 'Income'),\n",
              " Text(0, 1, 'Limit'),\n",
              " Text(0, 1, 'Rating'),\n",
              " Text(0, 1, 'Cards'),\n",
              " Text(0, 1, 'Age'),\n",
              " Text(0, 1, 'Education'),\n",
              " Text(0, 1, 'Gender'),\n",
              " Text(0, 1, 'Student'),\n",
              " Text(0, 1, 'Married'),\n",
              " Text(0, 1, 'Ethnicity'),\n",
              " Text(0, 1, 'Balance'),\n",
              " Text(0, 1, 'student_factor'),\n",
              " Text(0, 1, 'married_factor')]"
            ]
          },
          "metadata": {
            "tags": []
          },
          "execution_count": 70
        },
        {
          "output_type": "execute_result",
          "data": {
            "text/plain": [
              "[Text(0, 0, 'Income'),\n",
              " Text(0, 0, 'Limit'),\n",
              " Text(0, 0, 'Rating'),\n",
              " Text(0, 0, 'Cards'),\n",
              " Text(0, 0, 'Age'),\n",
              " Text(0, 0, 'Education'),\n",
              " Text(0, 0, 'Gender'),\n",
              " Text(0, 0, 'Student'),\n",
              " Text(0, 0, 'Married'),\n",
              " Text(0, 0, 'Ethnicity'),\n",
              " Text(0, 0, 'Balance'),\n",
              " Text(0, 0, 'student_factor'),\n",
              " Text(0, 0, 'married_factor')]"
            ]
          },
          "metadata": {
            "tags": []
          },
          "execution_count": 70
        },
        {
          "output_type": "display_data",
          "data": {
            "image/png": "[encoded data removed]",
            "text/plain": [
              "<Figure size 360x288 with 2 Axes>"
            ]
          },
          "metadata": {
            "tags": []
          }
        }
      ]
    },
    {
      "cell_type": "code",
      "metadata": {
        "id": "5nIMQGYewRQQ",
        "colab": {
          "base_uri": "https://localhost:8080/",
          "height": 333
        },
        "outputId": "ad9100cd-6b93-4362-812e-55f5c92144eb"
      },
      "source": [
        "inc = credit_data['Income']\n",
        "bal = credit_data['Balance']\n",
        "lim = credit_data['Limit']\n",
        "ag = credit_data['Age']\n",
        "rat = credit_data['Rating']\n",
        "car = credit_data['Cards']\n",
        "\n",
        "\n",
        "plt.scatter(inc,bal)\n",
        "plt.title('Correlation between Income and Balance')\n",
        "plt.xlabel('Income')\n",
        "plt.ylabel('Balance')\n",
        "plt.show()"
      ],
      "execution_count": null,
      "outputs": [
        {
          "output_type": "execute_result",
          "data": {
            "text/plain": [
              "<matplotlib.collections.PathCollection at 0x7fea0b2e1c88>"
            ]
          },
          "metadata": {
            "tags": []
          },
          "execution_count": 71
        },
        {
          "output_type": "execute_result",
          "data": {
            "text/plain": [
              "Text(0.5, 1.0, 'Correlation between Income and Balance')"
            ]
          },
          "metadata": {
            "tags": []
          },
          "execution_count": 71
        },
        {
          "output_type": "execute_result",
          "data": {
            "text/plain": [
              "Text(0.5, 0, 'Income')"
            ]
          },
          "metadata": {
            "tags": []
          },
          "execution_count": 71
        },
        {
          "output_type": "execute_result",
          "data": {
            "text/plain": [
              "Text(0, 0.5, 'Balance')"
            ]
          },
          "metadata": {
            "tags": []
          },
          "execution_count": 71
        },
        {
          "output_type": "display_data",
          "data": {
            "image/png": "[encoded data removed]",
            "text/plain": [
              "<Figure size 360x288 with 1 Axes>"
            ]
          },
          "metadata": {
            "tags": []
          }
        }
      ]
    },
    {
      "cell_type": "code",
      "metadata": {
        "id": "DIYAdGrx8ued",
        "colab": {
          "base_uri": "https://localhost:8080/",
          "height": 333
        },
        "outputId": "d2c5c418-85d2-4a59-fe6a-e602e78e5e16"
      },
      "source": [
        "plt.scatter(lim,bal)\n",
        "plt.title('Correlation between Limit and Balance')\n",
        "plt.xlabel('Limit')\n",
        "plt.ylabel('Balance')\n",
        "plt.show()"
      ],
      "execution_count": null,
      "outputs": [
        {
          "output_type": "execute_result",
          "data": {
            "text/plain": [
              "<matplotlib.collections.PathCollection at 0x7fea0b249b00>"
            ]
          },
          "metadata": {
            "tags": []
          },
          "execution_count": 72
        },
        {
          "output_type": "execute_result",
          "data": {
            "text/plain": [
              "Text(0.5, 1.0, 'Correlation between Limit and Balance')"
            ]
          },
          "metadata": {
            "tags": []
          },
          "execution_count": 72
        },
        {
          "output_type": "execute_result",
          "data": {
            "text/plain": [
              "Text(0.5, 0, 'Limit')"
            ]
          },
          "metadata": {
            "tags": []
          },
          "execution_count": 72
        },
        {
          "output_type": "execute_result",
          "data": {
            "text/plain": [
              "Text(0, 0.5, 'Balance')"
            ]
          },
          "metadata": {
            "tags": []
          },
          "execution_count": 72
        },
        {
          "output_type": "display_data",
          "data": {
            "image/png": "[encoded data removed]",
            "text/plain": [
              "<Figure size 360x288 with 1 Axes>"
            ]
          },
          "metadata": {
            "tags": []
          }
        }
      ]
    },
    {
      "cell_type": "code",
      "metadata": {
        "id": "fUDeHXsG9IuK",
        "colab": {
          "base_uri": "https://localhost:8080/",
          "height": 333
        },
        "outputId": "edda8760-fe70-4698-d140-d6041a7a724a"
      },
      "source": [
        "plt.scatter(ag,bal)\n",
        "plt.title('Correlation between Age and Balance')\n",
        "plt.xlabel('Age')\n",
        "plt.ylabel('Balance')\n",
        "plt.show()"
      ],
      "execution_count": null,
      "outputs": [
        {
          "output_type": "execute_result",
          "data": {
            "text/plain": [
              "<matplotlib.collections.PathCollection at 0x7fea0b231470>"
            ]
          },
          "metadata": {
            "tags": []
          },
          "execution_count": 73
        },
        {
          "output_type": "execute_result",
          "data": {
            "text/plain": [
              "Text(0.5, 1.0, 'Correlation between Age and Balance')"
            ]
          },
          "metadata": {
            "tags": []
          },
          "execution_count": 73
        },
        {
          "output_type": "execute_result",
          "data": {
            "text/plain": [
              "Text(0.5, 0, 'Age')"
            ]
          },
          "metadata": {
            "tags": []
          },
          "execution_count": 73
        },
        {
          "output_type": "execute_result",
          "data": {
            "text/plain": [
              "Text(0, 0.5, 'Balance')"
            ]
          },
          "metadata": {
            "tags": []
          },
          "execution_count": 73
        },
        {
          "output_type": "display_data",
          "data": {
            "image/png": "[encoded data removed]",
            "text/plain": [
              "<Figure size 360x288 with 1 Axes>"
            ]
          },
          "metadata": {
            "tags": []
          }
        }
      ]
    },
    {
      "cell_type": "code",
      "metadata": {
        "id": "iIQd_ieZ9R3I",
        "colab": {
          "base_uri": "https://localhost:8080/",
          "height": 333
        },
        "outputId": "c004cfaf-1837-4f76-d9a0-61754f402f69"
      },
      "source": [
        "plt.scatter(rat,bal)\n",
        "plt.title('Correlation between Rating and Balance')\n",
        "plt.xlabel('Rating')\n",
        "plt.ylabel('Balance')\n",
        "plt.show()"
      ],
      "execution_count": null,
      "outputs": [
        {
          "output_type": "execute_result",
          "data": {
            "text/plain": [
              "<matplotlib.collections.PathCollection at 0x7fea0b198518>"
            ]
          },
          "metadata": {
            "tags": []
          },
          "execution_count": 74
        },
        {
          "output_type": "execute_result",
          "data": {
            "text/plain": [
              "Text(0.5, 1.0, 'Correlation between Rating and Balance')"
            ]
          },
          "metadata": {
            "tags": []
          },
          "execution_count": 74
        },
        {
          "output_type": "execute_result",
          "data": {
            "text/plain": [
              "Text(0.5, 0, 'Rating')"
            ]
          },
          "metadata": {
            "tags": []
          },
          "execution_count": 74
        },
        {
          "output_type": "execute_result",
          "data": {
            "text/plain": [
              "Text(0, 0.5, 'Balance')"
            ]
          },
          "metadata": {
            "tags": []
          },
          "execution_count": 74
        },
        {
          "output_type": "display_data",
          "data": {
            "image/png": "[encoded data removed]",
            "text/plain": [
              "<Figure size 360x288 with 1 Axes>"
            ]
          },
          "metadata": {
            "tags": []
          }
        }
      ]
    },
    {
      "cell_type": "code",
      "metadata": {
        "id": "bSXx6-ge9uS7",
        "colab": {
          "base_uri": "https://localhost:8080/",
          "height": 333
        },
        "outputId": "3d3ca966-9fa6-4b6f-dc8e-37fe8d2c0771"
      },
      "source": [
        "plt.scatter(car,bal)\n",
        "plt.title('Correlation between Cards and Balance')\n",
        "plt.xlabel('Cards')\n",
        "plt.ylabel('Balance')\n",
        "plt.show()"
      ],
      "execution_count": null,
      "outputs": [
        {
          "output_type": "execute_result",
          "data": {
            "text/plain": [
              "<matplotlib.collections.PathCollection at 0x7fea0b17a2b0>"
            ]
          },
          "metadata": {
            "tags": []
          },
          "execution_count": 75
        },
        {
          "output_type": "execute_result",
          "data": {
            "text/plain": [
              "Text(0.5, 1.0, 'Correlation between Cards and Balance')"
            ]
          },
          "metadata": {
            "tags": []
          },
          "execution_count": 75
        },
        {
          "output_type": "execute_result",
          "data": {
            "text/plain": [
              "Text(0.5, 0, 'Cards')"
            ]
          },
          "metadata": {
            "tags": []
          },
          "execution_count": 75
        },
        {
          "output_type": "execute_result",
          "data": {
            "text/plain": [
              "Text(0, 0.5, 'Balance')"
            ]
          },
          "metadata": {
            "tags": []
          },
          "execution_count": 75
        },
        {
          "output_type": "display_data",
          "data": {
            "image/png": "[encoded data removed]",
            "text/plain": [
              "<Figure size 360x288 with 1 Axes>"
            ]
          },
          "metadata": {
            "tags": []
          }
        }
      ]
    },
    {
      "cell_type": "code",
      "metadata": {
        "id": "SlA26A7B8vms",
        "colab": {
          "base_uri": "https://localhost:8080/",
          "height": 283
        },
        "outputId": "60447b2d-0600-4c2e-cd85-6cd2dd14c425"
      },
      "source": [
        "sb.boxplot(data=[bal,lim])\n"
      ],
      "execution_count": null,
      "outputs": [
        {
          "output_type": "execute_result",
          "data": {
            "text/plain": [
              "<matplotlib.axes._subplots.AxesSubplot at 0x7fea0b113da0>"
            ]
          },
          "metadata": {
            "tags": []
          },
          "execution_count": 76
        },
        {
          "output_type": "display_data",
          "data": {
            "image/png": "[encoded data removed]",
            "text/plain": [
              "<Figure size 360x288 with 1 Axes>"
            ]
          },
          "metadata": {
            "tags": []
          }
        }
      ]
    },
    {
      "cell_type": "code",
      "metadata": {
        "id": "-B8KVylSGZJT",
        "colab": {
          "base_uri": "https://localhost:8080/",
          "height": 283
        },
        "outputId": "98fda981-06dc-4e1d-ea55-c81af8eeb479"
      },
      "source": [
        "sb.boxplot(data=[inc,car,ag,rat])"
      ],
      "execution_count": null,
      "outputs": [
        {
          "output_type": "execute_result",
          "data": {
            "text/plain": [
              "<matplotlib.axes._subplots.AxesSubplot at 0x7fea0b08c358>"
            ]
          },
          "metadata": {
            "tags": []
          },
          "execution_count": 77
        },
        {
          "output_type": "display_data",
          "data": {
            "image/png": "[encoded data removed]",
            "text/plain": [
              "<Figure size 360x288 with 1 Axes>"
            ]
          },
          "metadata": {
            "tags": []
          }
        }
      ]
    },
    {
      "cell_type": "markdown",
      "metadata": {
        "id": "zl5mfdbUm0eV"
      },
      "source": [
        "#\n",
        "2) The correlation graph helps give an idea of which variables are correlated with eachother in the early stages of data analysis. Seeing as Balance would be our response variable in the regression part; scatterplots were constructed to visualize correlation with other variables. We can see clear linear relaionships between rating and balance and limit and balance. Income vs balance overall is linear but more convoluted within the 50k-100k showing no clear relationship for that range. No clear correlation with age vs balance or card vs balance. A boxplot was plotted to compare each variable side by side. "
      ]
    },
    {
      "cell_type": "code",
      "metadata": {
        "id": "dUIPA9Xkm23R",
        "colab": {
          "base_uri": "https://localhost:8080/",
          "height": 312
        },
        "outputId": "f8f0333f-9760-4af7-f908-53f361a46cf4"
      },
      "source": [
        "#3)Income, Limit, Rating, Cards, Age, Education, and Balance \n",
        "credit_data_2 = credit_data[['Income', 'Limit', 'Rating', 'Cards', 'Age', 'Education', 'Balance']]\n",
        "\n",
        "print(credit_data_2)\n",
        "print(credit_data_2.shape)\n",
        "print(credit_data_2.size)\n",
        "print(credit_data_2.ndim)"
      ],
      "execution_count": null,
      "outputs": [
        {
          "output_type": "stream",
          "text": [
            "      Income  Limit  Rating  Cards  Age  Education  Balance\n",
            "0     14.891   3606     283      2   34         11      333\n",
            "1    106.025   6645     483      3   82         15      903\n",
            "2    104.593   7075     514      4   71         11      580\n",
            "3    148.924   9504     681      3   36         11      964\n",
            "4     55.882   4897     357      2   68         16      331\n",
            "..       ...    ...     ...    ...  ...        ...      ...\n",
            "395   12.096   4100     307      3   32         13      560\n",
            "396   13.364   3838     296      5   65         17      480\n",
            "397   57.872   4171     321      5   67         12      138\n",
            "398   37.728   2525     192      1   44         13        0\n",
            "399   18.701   5524     415      5   64          7      966\n",
            "\n",
            "[400 rows x 7 columns]\n",
            "(400, 7)\n",
            "2800\n",
            "2\n"
          ],
          "name": "stdout"
        }
      ]
    },
    {
      "cell_type": "markdown",
      "metadata": {
        "id": "R4Fw5rYvvp0X"
      },
      "source": [
        "the dimension is 2"
      ]
    },
    {
      "cell_type": "code",
      "metadata": {
        "id": "6zNGud0b4zv7",
        "colab": {
          "base_uri": "https://localhost:8080/",
          "height": 306
        },
        "outputId": "4439ac42-2afa-46a6-ac5c-40984cfb36a6"
      },
      "source": [
        "#4)Create a binary variable Balance_1500 which equals  1  for the observations with Balance  >1500 , and equals  0  otherwise.\n",
        "\n",
        "\n",
        "\n",
        "credit_data_2.loc[(credit_data_2['Balance']) > 1500,'Balance_1500'] = 1\n",
        "credit_data_2.loc[(credit_data_2['Balance']) <= 1500,'Balance_1500'] = 0\n",
        "\n",
        "credit_data_2.head()\n",
        "\n",
        "\n",
        "\n",
        "\n",
        "\n",
        "\n",
        "\n"
      ],
      "execution_count": null,
      "outputs": [
        {
          "output_type": "stream",
          "text": [
            "/usr/local/lib/python3.6/dist-packages/pandas/core/indexing.py:494: SettingWithCopyWarning: \n",
            "A value is trying to be set on a copy of a slice from a DataFrame.\n",
            "Try using .loc[row_indexer,col_indexer] = value instead\n",
            "\n",
            "See the caveats in the documentation: http://pandas.pydata.org/pandas-docs/stable/user_guide/indexing.html#returning-a-view-versus-a-copy\n",
            "  self.obj[item] = s\n"
          ],
          "name": "stderr"
        },
        {
          "output_type": "execute_result",
          "data": {
            "text/html": [
              "<div>\n",
              "<style scoped>\n",
              "    .dataframe tbody tr th:only-of-type {\n",
              "        vertical-align: middle;\n",
              "    }\n",
              "\n",
              "    .dataframe tbody tr th {\n",
              "        vertical-align: top;\n",
              "    }\n",
              "\n",
              "    .dataframe thead th {\n",
              "        text-align: right;\n",
              "    }\n",
              "</style>\n",
              "<table border=\"1\" class=\"dataframe\">\n",
              "  <thead>\n",
              "    <tr style=\"text-align: right;\">\n",
              "      <th></th>\n",
              "      <th>Income</th>\n",
              "      <th>Limit</th>\n",
              "      <th>Rating</th>\n",
              "      <th>Cards</th>\n",
              "      <th>Age</th>\n",
              "      <th>Education</th>\n",
              "      <th>Balance</th>\n",
              "      <th>Balance_1500</th>\n",
              "    </tr>\n",
              "  </thead>\n",
              "  <tbody>\n",
              "    <tr>\n",
              "      <th>0</th>\n",
              "      <td>14.891</td>\n",
              "      <td>3606</td>\n",
              "      <td>283</td>\n",
              "      <td>2</td>\n",
              "      <td>34</td>\n",
              "      <td>11</td>\n",
              "      <td>333</td>\n",
              "      <td>0.0</td>\n",
              "    </tr>\n",
              "    <tr>\n",
              "      <th>1</th>\n",
              "      <td>106.025</td>\n",
              "      <td>6645</td>\n",
              "      <td>483</td>\n",
              "      <td>3</td>\n",
              "      <td>82</td>\n",
              "      <td>15</td>\n",
              "      <td>903</td>\n",
              "      <td>0.0</td>\n",
              "    </tr>\n",
              "    <tr>\n",
              "      <th>2</th>\n",
              "      <td>104.593</td>\n",
              "      <td>7075</td>\n",
              "      <td>514</td>\n",
              "      <td>4</td>\n",
              "      <td>71</td>\n",
              "      <td>11</td>\n",
              "      <td>580</td>\n",
              "      <td>0.0</td>\n",
              "    </tr>\n",
              "    <tr>\n",
              "      <th>3</th>\n",
              "      <td>148.924</td>\n",
              "      <td>9504</td>\n",
              "      <td>681</td>\n",
              "      <td>3</td>\n",
              "      <td>36</td>\n",
              "      <td>11</td>\n",
              "      <td>964</td>\n",
              "      <td>0.0</td>\n",
              "    </tr>\n",
              "    <tr>\n",
              "      <th>4</th>\n",
              "      <td>55.882</td>\n",
              "      <td>4897</td>\n",
              "      <td>357</td>\n",
              "      <td>2</td>\n",
              "      <td>68</td>\n",
              "      <td>16</td>\n",
              "      <td>331</td>\n",
              "      <td>0.0</td>\n",
              "    </tr>\n",
              "  </tbody>\n",
              "</table>\n",
              "</div>"
            ],
            "text/plain": [
              "    Income  Limit  Rating  Cards  Age  Education  Balance  Balance_1500\n",
              "0   14.891   3606     283      2   34         11      333           0.0\n",
              "1  106.025   6645     483      3   82         15      903           0.0\n",
              "2  104.593   7075     514      4   71         11      580           0.0\n",
              "3  148.924   9504     681      3   36         11      964           0.0\n",
              "4   55.882   4897     357      2   68         16      331           0.0"
            ]
          },
          "metadata": {
            "tags": []
          },
          "execution_count": 80
        }
      ]
    },
    {
      "cell_type": "code",
      "metadata": {
        "id": "wY0UelE0NMN8",
        "colab": {
          "base_uri": "https://localhost:8080/",
          "height": 416
        },
        "outputId": "fe864bd6-a614-4765-87fb-245d050a2855"
      },
      "source": [
        "#)5 Applying linear regression, model Balance simultaneously based on Income, Limit, Rating, Cards, Age, Education.\n",
        "\n",
        "\n",
        "\n",
        "indep = credit_data_2[['Income', 'Limit', 'Rating', 'Cards', 'Age', 'Education']]\n",
        "dep1 = credit_data_2[['Balance']]\n",
        "\n",
        "\n",
        "\n",
        "\n",
        "X = indep\n",
        "y = dep1\n",
        "\n",
        "lm = linear_model.LinearRegression()\n",
        "model = lm.fit(X,y)\n",
        "\n",
        "prediction = lm.predict(X)\n",
        "print(prediction[0:10])\n",
        "print(y[0:10])\n",
        "\n",
        "lm.coef_\n",
        "\n",
        "lm.intercept_\n",
        "\n",
        "lm.score(X,y)\n",
        "\n",
        "\n",
        "\n",
        "\n",
        "\n"
      ],
      "execution_count": null,
      "outputs": [
        {
          "output_type": "stream",
          "text": [
            "[[ 461.9946547 ]\n",
            " [ 545.03194423]\n",
            " [ 687.34197438]\n",
            " [1022.1592906 ]\n",
            " [ 446.97635876]\n",
            " [1100.30151481]\n",
            " [ 338.22396164]\n",
            " [ 897.47936788]\n",
            " [ 396.8574197 ]\n",
            " [ 892.27548092]]\n",
            "   Balance\n",
            "0      333\n",
            "1      903\n",
            "2      580\n",
            "3      964\n",
            "4      331\n",
            "5     1151\n",
            "6      203\n",
            "7      872\n",
            "8      279\n",
            "9     1350\n"
          ],
          "name": "stdout"
        },
        {
          "output_type": "execute_result",
          "data": {
            "text/plain": [
              "array([[-7.55803661,  0.12585115,  2.06310071, 11.59155799, -0.89239775,\n",
              "         1.99828255]])"
            ]
          },
          "metadata": {
            "tags": []
          },
          "execution_count": 81
        },
        {
          "output_type": "execute_result",
          "data": {
            "text/plain": [
              "array([-477.9580884])"
            ]
          },
          "metadata": {
            "tags": []
          },
          "execution_count": 81
        },
        {
          "output_type": "execute_result",
          "data": {
            "text/plain": [
              "0.878245293186235"
            ]
          },
          "metadata": {
            "tags": []
          },
          "execution_count": 81
        }
      ]
    },
    {
      "cell_type": "markdown",
      "metadata": {
        "id": "JspdmnRJZ4O8"
      },
      "source": [
        "6) *Using the obtained model, compare the independent variables effect size on the response?*\n",
        "the coefficients are the slopes of our linear regression line created by the model. If we look at cards for example, our coefficient states that for each additional card one has we can expect the balance to go up by an average of 11.591. Looking at our results, our variable with highest effect size was card amount and our variable with the smallest effect size is the limit of the card.  The larger the number the greater the effect size."
      ]
    },
    {
      "cell_type": "code",
      "metadata": {
        "id": "SblkvzIL0Hph",
        "colab": {
          "base_uri": "https://localhost:8080/",
          "height": 211
        },
        "outputId": "8ae61f23-f349-488a-bab0-a5f75e01e10e"
      },
      "source": [
        "#7)Model Balance_1500 by the explanatory variables mentionned in Step 5 using the following models:\n",
        "#a)logistic regression,\n",
        "#b)linear discriminant, and\n",
        "#c)quadratic discriminant.\n",
        "#a)\n",
        "dep2 = credit_data_2[['Balance_1500']]\n",
        "\n",
        "y_2 = dep2\n",
        "lr = LogisticRegression()\n",
        "lr.fit(X, y_2)\n",
        "\n",
        "print(lr.intercept_)\n",
        "print(lr.coef_)\n",
        "\n",
        "\n",
        "\n",
        "\n"
      ],
      "execution_count": null,
      "outputs": [
        {
          "output_type": "stream",
          "text": [
            "/usr/local/lib/python3.6/dist-packages/sklearn/linear_model/logistic.py:432: FutureWarning: Default solver will be changed to 'lbfgs' in 0.22. Specify a solver to silence this warning.\n",
            "  FutureWarning)\n",
            "/usr/local/lib/python3.6/dist-packages/sklearn/utils/validation.py:724: DataConversionWarning: A column-vector y was passed when a 1d array was expected. Please change the shape of y to (n_samples, ), for example using ravel().\n",
            "  y = column_or_1d(y, warn=True)\n"
          ],
          "name": "stderr"
        },
        {
          "output_type": "execute_result",
          "data": {
            "text/plain": [
              "LogisticRegression(C=1.0, class_weight=None, dual=False, fit_intercept=True,\n",
              "                   intercept_scaling=1, l1_ratio=None, max_iter=100,\n",
              "                   multi_class='warn', n_jobs=None, penalty='l2',\n",
              "                   random_state=None, solver='warn', tol=0.0001, verbose=0,\n",
              "                   warm_start=False)"
            ]
          },
          "metadata": {
            "tags": []
          },
          "execution_count": 82
        },
        {
          "output_type": "stream",
          "text": [
            "[-0.8120415]\n",
            "[[-0.00950267  0.0049973  -0.05902321  0.11890952 -0.05978754 -0.35416642]]\n"
          ],
          "name": "stdout"
        }
      ]
    },
    {
      "cell_type": "code",
      "metadata": {
        "id": "fRFzM8WG69tz",
        "colab": {
          "base_uri": "https://localhost:8080/",
          "height": 141
        },
        "outputId": "ed71ea6d-1c59-4fc1-c20b-5ce14c2ab9da"
      },
      "source": [
        "#7)b)\n",
        "from sklearn.discriminant_analysis import LinearDiscriminantAnalysis\n",
        "y_3 = dep2\n",
        "lda = LinearDiscriminantAnalysis()\n",
        "lda.fit(X,y_3)\n",
        "\n",
        "print(lda.intercept_)\n",
        "print(lda.coef_)"
      ],
      "execution_count": null,
      "outputs": [
        {
          "output_type": "stream",
          "text": [
            "/usr/local/lib/python3.6/dist-packages/sklearn/utils/validation.py:724: DataConversionWarning: A column-vector y was passed when a 1d array was expected. Please change the shape of y to (n_samples, ), for example using ravel().\n",
            "  y = column_or_1d(y, warn=True)\n"
          ],
          "name": "stderr"
        },
        {
          "output_type": "execute_result",
          "data": {
            "text/plain": [
              "LinearDiscriminantAnalysis(n_components=None, priors=None, shrinkage=None,\n",
              "                           solver='svd', store_covariance=False, tol=0.0001)"
            ]
          },
          "metadata": {
            "tags": []
          },
          "execution_count": 83
        },
        {
          "output_type": "stream",
          "text": [
            "[-14.25754044]\n",
            "[[ 2.50503328e-02 -2.46350024e-04  1.90771457e-02  2.92958512e-01\n",
            "  -1.61624107e-02 -1.68504978e-02]]\n"
          ],
          "name": "stdout"
        }
      ]
    },
    {
      "cell_type": "code",
      "metadata": {
        "id": "N-O7pyfTCh0x",
        "colab": {
          "base_uri": "https://localhost:8080/",
          "height": 107
        },
        "outputId": "85431f4e-a2de-4a54-a94a-15574614d437"
      },
      "source": [
        "#7c) \n",
        "from sklearn.discriminant_analysis import QuadraticDiscriminantAnalysis\n",
        "y_4 = dep2\n",
        "qda = QuadraticDiscriminantAnalysis()\n",
        "qda.fit(X,y_4)\n",
        "\n",
        "\n"
      ],
      "execution_count": null,
      "outputs": [
        {
          "output_type": "stream",
          "text": [
            "/usr/local/lib/python3.6/dist-packages/sklearn/utils/validation.py:724: DataConversionWarning: A column-vector y was passed when a 1d array was expected. Please change the shape of y to (n_samples, ), for example using ravel().\n",
            "  y = column_or_1d(y, warn=True)\n"
          ],
          "name": "stderr"
        },
        {
          "output_type": "execute_result",
          "data": {
            "text/plain": [
              "QuadraticDiscriminantAnalysis(priors=None, reg_param=0.0,\n",
              "                              store_covariance=False, tol=0.0001)"
            ]
          },
          "metadata": {
            "tags": []
          },
          "execution_count": 84
        }
      ]
    },
    {
      "cell_type": "code",
      "metadata": {
        "id": "32bYLHWQ4t7f",
        "colab": {
          "base_uri": "https://localhost:8080/",
          "height": 87
        },
        "outputId": "cfb8667e-eae8-4190-84f3-458595742c4e"
      },
      "source": [
        "#8)Find the probability of (Balance  >1500 ), for the following values, using all three aforementionned methods:\n",
        "#Income\tLimit\tRating\tCards\tAge\tEducation\n",
        "#63\t    8100\t600\t      4\t   30\t 13\n",
        "#186\t  13414\t950\t      2\t   41\t 13\n",
        "\n",
        "# a) logReg prob\n",
        "\n",
        "lr_right_eq1 = lr.intercept_ + 63*lr.coef_[0][0] + 8100*lr.coef_[0][1] + 600*lr.coef_[0][2] + 4*lr.coef_[0][3] + 30*lr.coef_[0][4] + 13*lr.coef_[0][5]\n",
        "lr_right_eq2 = lr.intercept_ + 186*lr.coef_[0][0] + 13414*lr.coef_[0][1] + 950*lr.coef_[0][2] + 2*lr.coef_[0][3] + 41*lr.coef_[0][4] + 13*lr.coef_[0][5]\n",
        "prob_bal_1500_1 = np.exp(lr_right_eq1)/(1+np.exp(lr_right_eq1))\n",
        "prob_bal_1500_2 = np.exp(lr_right_eq2)/(1+np.exp(lr_right_eq2))\n",
        "print(prob_bal_1500_1)\n",
        "print(prob_bal_1500_2)\n",
        "print(prob_bal_1500_1*100)\n",
        "print(prob_bal_1500_2*100)"
      ],
      "execution_count": null,
      "outputs": [
        {
          "output_type": "stream",
          "text": [
            "[0.09375341]\n",
            "[0.82701017]\n",
            "[9.37534074]\n",
            "[82.70101671]\n"
          ],
          "name": "stdout"
        }
      ]
    },
    {
      "cell_type": "code",
      "metadata": {
        "id": "QOJsn-Da-5Ec",
        "colab": {
          "base_uri": "https://localhost:8080/",
          "height": 87
        },
        "outputId": "f94e2087-04df-4fe4-d538-92cd5306f5df"
      },
      "source": [
        "#b)\n",
        "ldaXa = pd.DataFrame([[63,8100,600,4,30,13]])\n",
        "yProb1_lda = lda.predict_proba(ldaXa)\n",
        "\n",
        "ldaXb = pd.DataFrame([[186,13414,950,2,41,13]])\n",
        "yProb2_lda = lda.predict_proba(ldaXb)\n",
        "\n",
        "print(yProb1_lda)\n",
        "print(yProb2_lda)\n",
        "print(yProb1_lda*100)\n",
        "print(yProb2_lda*100)\n",
        "#the matrix represents the probability of obtaining a 0 or 1(balance<=1500 or balance>1500)therefore there is a 5.95%chance of balance>1500 for\n",
        "#the first set of independent variables and 99.28% chance for the second set\n",
        "\n",
        "\n"
      ],
      "execution_count": null,
      "outputs": [
        {
          "output_type": "stream",
          "text": [
            "[[0.94050988 0.05949012]]\n",
            "[[0.00721199 0.99278801]]\n",
            "[[94.05098848  5.94901152]]\n",
            "[[ 0.72119891 99.27880109]]\n"
          ],
          "name": "stdout"
        }
      ]
    },
    {
      "cell_type": "code",
      "metadata": {
        "id": "ui3616xUHaR_",
        "colab": {
          "base_uri": "https://localhost:8080/",
          "height": 87
        },
        "outputId": "8b4525f9-fea2-47e1-a5fb-6df848dde8e1"
      },
      "source": [
        "#c)\n",
        "yProb1_qda = qda.predict_proba(ldaXa)\n",
        "\n",
        "yProb2_qda = qda.predict_proba(ldaXb)\n",
        "\n",
        "print(yProb1_qda)\n",
        "print(yProb2_qda)\n",
        "print(yProb1_qda*100)\n",
        "print(yProb2_qda*100)"
      ],
      "execution_count": null,
      "outputs": [
        {
          "output_type": "stream",
          "text": [
            "[[9.99999995e-01 4.93626009e-09]]\n",
            "[[7.83057752e-04 9.99216942e-01]]\n",
            "[[9.99999995e+01 4.93626009e-07]]\n",
            "[[7.83057752e-02 9.99216942e+01]]\n"
          ],
          "name": "stdout"
        }
      ]
    },
    {
      "cell_type": "markdown",
      "metadata": {
        "id": "drx_5EuZ4wCB"
      },
      "source": [
        "#\n",
        "8) **set 1**: logistic regression= 9.375% chance, linear discriminant analysis= 5.959% chance, quadratic discriminant analysis= 4.936e-7% chance.\n",
        "\n",
        "**set 2**: logistic regression= 82.701% chance, linear discriminant analysis= 99.279% chance, quadratic discriminant analysis= 99.922% chance.\n",
        "\n",
        "All three models show a small chance of the balance being greater than 1500 for the first set. For the second set all three models show great chances of the balance being >1500.  For the first set the probabilities got smaller as we went from model to model; whereas for set 2 LDA and QDA showed similiar probabilities, both being around 15% greater than logistic regression prediction."
      ]
    },
    {
      "cell_type": "code",
      "metadata": {
        "id": "Ke8rw0f54zqI",
        "colab": {
          "base_uri": "https://localhost:8080/",
          "height": 69
        },
        "outputId": "a708febe-b5a8-4f9c-ba57-2f0541ca83b4"
      },
      "source": [
        "#9)For each method, print the confusion matrix, the accuracy score and the AUC using all observations. Compare these metrics and comment.\n",
        "#a)\n",
        "\n",
        "from sklearn.metrics import confusion_matrix\n",
        "from sklearn.metrics import roc_auc_score\n",
        "\n",
        "y_lr_pred = lr.predict(X)\n",
        "lr_conf_matrix = confusion_matrix(y_2, y_lr_pred)\n",
        "lr_conf_matrix\n",
        "lr_acc = np.trace(lr_conf_matrix)/np.sum(lr_conf_matrix)\n",
        "lr_auc = roc_auc_score(y_2,y_lr_pred)\n",
        "print(lr_acc)\n",
        "print(lr_auc)"
      ],
      "execution_count": null,
      "outputs": [
        {
          "output_type": "execute_result",
          "data": {
            "text/plain": [
              "array([[390,   1],\n",
              "       [  6,   3]])"
            ]
          },
          "metadata": {
            "tags": []
          },
          "execution_count": 88
        },
        {
          "output_type": "stream",
          "text": [
            "0.9825\n",
            "0.6653878942881499\n"
          ],
          "name": "stdout"
        }
      ]
    },
    {
      "cell_type": "code",
      "metadata": {
        "id": "zEn0I5AuBjV5",
        "colab": {
          "base_uri": "https://localhost:8080/",
          "height": 87
        },
        "outputId": "70b355e9-be43-4e40-b0ef-81de95667e5c"
      },
      "source": [
        "#b)\n",
        "y_lda_pred = lda.predict(X)\n",
        "lda_conf_mat = confusion_matrix(y_3, y_lr_pred)\n",
        "lda_acc = np.trace(lda_conf_mat)/np.sum(lda_conf_mat)\n",
        "lda_auc = roc_auc_score(y_3,y_lda_pred)\n",
        "print(lda_conf_mat)\n",
        "print(lda_acc)\n",
        "print(lda_auc)"
      ],
      "execution_count": null,
      "outputs": [
        {
          "output_type": "stream",
          "text": [
            "[[390   1]\n",
            " [  6   3]]\n",
            "0.9825\n",
            "0.7675475987496447\n"
          ],
          "name": "stdout"
        }
      ]
    },
    {
      "cell_type": "code",
      "metadata": {
        "id": "lgfxnTHLIT9B",
        "colab": {
          "base_uri": "https://localhost:8080/",
          "height": 87
        },
        "outputId": "22b063aa-0b94-4018-d27c-a681c2376f9f"
      },
      "source": [
        "#c)\n",
        "y_qda_pred = qda.predict(X)\n",
        "qda_conf_mat = confusion_matrix(y_4, y_qda_pred)\n",
        "qda_acc = np.trace(qda_conf_mat)/np.sum(qda_conf_mat)\n",
        "qda_auc = roc_auc_score(y_4,y_qda_pred)\n",
        "\n",
        "print(qda_conf_mat)\n",
        "print(qda_acc)\n",
        "print(qda_auc)\n"
      ],
      "execution_count": null,
      "outputs": [
        {
          "output_type": "stream",
          "text": [
            "[[390   1]\n",
            " [  2   7]]\n",
            "0.9925\n",
            "0.8876101165103721\n"
          ],
          "name": "stdout"
        }
      ]
    },
    {
      "cell_type": "markdown",
      "metadata": {
        "id": "s7Q5eQAQ41mw"
      },
      "source": [
        "#\n",
        "9) The confusion matrix helps show the strength of the model. It demonstates accurate predictions vs non accurate predictions. From left to right, top to bottom the numbers represent true negatives, false positive, false negative, and true positives. The accuracy shows how often the model classified correctly.  The AUC is area under the model curves.  The closer to 1 the better. It explains how well the model can distinguish between positive and negative classes.  For example if auc was 0.5 it would mean that the model had a 50% chance of distinguishing between positive and negative which is not good at all.\n",
        "\n",
        "Logistic and LDA had the same confusion matrixes therefore they shared the same accuracy since they classified the same. QDA model had the same true negatives but had more true positives. The accuracy is 99.25% and the AUC is 0.887 which is fairly close to 1. These results show that the this model was strongest."
      ]
    }
  ]
}