{
  "nbformat": 4,
  "nbformat_minor": 0,
  "metadata": {
    "colab": {
      "name": "Completed_Homework3.ipynb",
      "provenance": [],
      "collapsed_sections": []
    },
    "kernelspec": {
      "name": "python3",
      "display_name": "Python 3"
    },
    "accelerator": "GPU"
  },
  "cells": [
    {
      "cell_type": "markdown",
      "metadata": {
        "id": "omn2W8BEaDmD"
      },
      "source": [
        "# Assignment\n",
        "Build the AlexNet architecture and train it on the CIFAR100 dataset.\n",
        "\n",
        "You may resize some of the kernel sizes (mainly the first one) and the number of kernels because CIFAR100 is a smaller dataset than ImageNet, as well as lower-resolution (32x32 vs 224x224).\n",
        "\n",
        "You may resize the number of kernels used per layer if it speeds up training and/or preserves accuracy.\n",
        "\n",
        "Report training, validation and test errors. Which hyperparameters did you change to improve performance?\n",
        "\n",
        "**MAKE SURE YOU USE A GPU!** Top menu select \"Runtime\", then \"Runtime Type\". Make sure \"Hardware Accelerator\" has the option \"GPU\" selected.\n",
        "\n",
        "Tips:\n",
        "- Start with only a few of a layers and check if the network can learn.\n",
        "- Add layers progressively.\n",
        "- Be patient: more layers and dropout can make the learning slower.\n",
        "- Check the shape of the output of the model to make sure your layers and convolutions are the right size.\n",
        "- The accuracy for random predictions is ~0.01.\n",
        "- Favor a model that works vs reproducing the exact architecture, in case the exact architecture is too difficult to train.\n",
        "- If you don't reproduce the exact architecture, that is fine. Explain what you changed and why!\n",
        "- If you implement a different architecture in favor of AlexNet, report performance by AlexNet nonetheless."
      ]
    },
    {
      "cell_type": "code",
      "metadata": {
        "id": "F9jr3RMsjMcR"
      },
      "source": [
        "%tensorflow_version 2.x\n",
        "import tensorflow as tf\n",
        "import numpy as np\n",
        "from tensorflow import keras\n",
        "from tensorflow.keras import datasets\n",
        "import matplotlib.pyplot as plt"
      ],
      "execution_count": null,
      "outputs": []
    },
    {
      "cell_type": "code",
      "metadata": {
        "id": "6x4X0TOjtXZo"
      },
      "source": [
        "from keras.layers.normalization import BatchNormalization\n",
        "from tensorflow.python.keras.layers import Dense, Activation, Dropout, Flatten, Conv2D, MaxPooling2D\n",
        "from tensorflow.python.keras import Sequential\n"
      ],
      "execution_count": null,
      "outputs": []
    },
    {
      "cell_type": "code",
      "metadata": {
        "id": "IGu8HMKrjv2A",
        "colab": {
          "base_uri": "https://localhost:8080/",
          "height": 52
        },
        "outputId": "d481a65c-854c-4b83-a133-1b166e5dc9b4"
      },
      "source": [
        "(X_train_full, y_train_full), (X_test, y_test) = keras.datasets.cifar100.load_data()"
      ],
      "execution_count": null,
      "outputs": [
        {
          "output_type": "stream",
          "text": [
            "Downloading data from https://www.cs.toronto.edu/~kriz/cifar-100-python.tar.gz\n",
            "169009152/169001437 [==============================] - 2s 0us/step\n"
          ],
          "name": "stdout"
        }
      ]
    },
    {
      "cell_type": "code",
      "metadata": {
        "id": "AonmJAZ80X1h",
        "colab": {
          "base_uri": "https://localhost:8080/",
          "height": 35
        },
        "outputId": "11f5051e-940b-415d-9f38-6495cceac58a"
      },
      "source": [
        "X_train_full.shape, y_train_full.shape, X_test.shape, y_test.shape"
      ],
      "execution_count": null,
      "outputs": [
        {
          "output_type": "execute_result",
          "data": {
            "text/plain": [
              "((50000, 32, 32, 3), (50000, 1), (10000, 32, 32, 3), (10000, 1))"
            ]
          },
          "metadata": {
            "tags": []
          },
          "execution_count": 6
        }
      ]
    },
    {
      "cell_type": "code",
      "metadata": {
        "id": "w0hxDRYfY8wM",
        "colab": {
          "base_uri": "https://localhost:8080/",
          "height": 35
        },
        "outputId": "b2e42105-9580-4f03-d0df-cb2ecdce8386"
      },
      "source": [
        "X_train_full.max()"
      ],
      "execution_count": null,
      "outputs": [
        {
          "output_type": "execute_result",
          "data": {
            "text/plain": [
              "255"
            ]
          },
          "metadata": {
            "tags": []
          },
          "execution_count": 7
        }
      ]
    },
    {
      "cell_type": "code",
      "metadata": {
        "id": "u6pA3Ms4YKjk"
      },
      "source": [
        "\n",
        "X_train_full = X_train_full/255\n",
        "X_test = X_test/255\n"
      ],
      "execution_count": null,
      "outputs": []
    },
    {
      "cell_type": "code",
      "metadata": {
        "id": "7i018IAfnnAG"
      },
      "source": [
        "X_train_full, y_train_full, X_validation, y_validation = X_train_full[:-7500], y_train_full[:-7500], X_train_full[-7500:], y_train_full[-7500:]"
      ],
      "execution_count": null,
      "outputs": []
    },
    {
      "cell_type": "code",
      "metadata": {
        "id": "6tbqsqRij3IQ",
        "colab": {
          "base_uri": "https://localhost:8080/",
          "height": 284
        },
        "outputId": "548919ba-534e-42f6-ac62-a527ed878336"
      },
      "source": [
        "fig = plt.figure()\n",
        "\n",
        "for i in range(9):\n",
        "  plt.subplot(3, 3, i+1)\n",
        "  plt.tight_layout()\n",
        "  plt.imshow(X_train_full[i], interpolation='none')\n",
        "  plt.title('Class: {}'.format(y_train_full[i]))\n",
        "  plt.xticks([])\n",
        "  plt.yticks([])"
      ],
      "execution_count": null,
      "outputs": [
        {
          "output_type": "display_data",
          "data": {
            "image/png": "[encoded data removed]",
            "text/plain": [
              "<Figure size 432x288 with 9 Axes>"
            ]
          },
          "metadata": {
            "tags": []
          }
        }
      ]
    },
    {
      "cell_type": "code",
      "metadata": {
        "id": "Lar4JTXVaQJW"
      },
      "source": [
        "class LocalResponseNormalization(keras.layers.Layer):\n",
        "  \"\"\" Here is an implementation of the special layer used in the 2012 paper. \"\"\"\n",
        "\n",
        "  def __init__(self, depth_radius=5, bias=1, alpha=1, beta=0.5, **kwargs):\n",
        "    super().__init__(**kwargs)\n",
        "    self.depth_radius=depth_radius\n",
        "    self.bias=bias\n",
        "    self.alpha=alpha\n",
        "    self.beta=beta\n",
        "\n",
        "  def call(self, input):\n",
        "    output = tf.nn.local_response_normalization(\n",
        "        input,\n",
        "        depth_radius=self.depth_radius,\n",
        "        bias=self.bias,\n",
        "        alpha=self.alpha,\n",
        "        beta=self.beta,\n",
        "        name=None)\n",
        "    return output"
      ],
      "execution_count": null,
      "outputs": []
    },
    {
      "cell_type": "code",
      "metadata": {
        "id": "1OohDqmhxfZp"
      },
      "source": [
        "layer = LocalResponseNormalization(keras.layers.Convolution2D(256, kernel_size=(5,5), padding='valid', activation='relu'))\n",
        "\n",
        "layer_input = Conv2D(96, kernel_size=(11, 11), padding='same', activation='relu',\n",
        "        input_shape=(X_train_full.shape[1:]))"
      ],
      "execution_count": null,
      "outputs": []
    },
    {
      "cell_type": "code",
      "metadata": {
        "id": "fkHhF0sRZi40"
      },
      "source": [
        "model = Sequential()\n",
        "model.add(Conv2D(96, kernel_size=(11, 11), padding='valid', activation='relu',\n",
        "        input_shape=(X_train_full.shape[1:])))\n",
        "\n",
        "\n",
        "model.add(layer=layer_input)\n",
        "\n",
        "model.add(tf.keras.layers.BatchNormalization())\n",
        "model.add(MaxPooling2D(pool_size=(2, 2)))\n",
        "\n",
        "model.add(Conv2D(384, kernel_size=(3, 3), padding='valid', activation='relu'))\n",
        "\n",
        "model.add(Conv2D(384, kernel_size=(3, 3), activation='relu'))\n",
        "model.add(tf.keras.layers.BatchNormalization())\n",
        "\n",
        "model.add(MaxPooling2D(pool_size=(2, 2)))\n",
        "\n",
        "\n",
        "model.add(Conv2D(256, kernel_size=(3, 3), padding='same', activation='relu'))\n",
        "\n",
        "model.add(tf.keras.layers.BatchNormalization())\n",
        "model.add(MaxPooling2D(pool_size=(2, 2)))\n",
        "\n",
        "\n",
        "model.add(Flatten())\n",
        "model.add(Dense(4096, activation='relu'))\n",
        "\n",
        "model.add(Dropout(0.5))\n",
        "model.add(Dense(4096, activation='relu'))\n",
        "\n",
        "model.add(Dropout(0.5))\n",
        "model.add(Dense(1000, activation='softmax'))\n"
      ],
      "execution_count": null,
      "outputs": []
    },
    {
      "cell_type": "code",
      "metadata": {
        "id": "UJ9j99Y2hy5z",
        "colab": {
          "base_uri": "https://localhost:8080/",
          "height": 745
        },
        "outputId": "6fadbc44-305f-473a-9aad-5a3266410749"
      },
      "source": [
        "model.summary()"
      ],
      "execution_count": null,
      "outputs": [
        {
          "output_type": "stream",
          "text": [
            "Model: \"sequential_22\"\n",
            "_________________________________________________________________\n",
            "Layer (type)                 Output Shape              Param #   \n",
            "=================================================================\n",
            "conv2d_84 (Conv2D)           (None, 22, 22, 96)        34944     \n",
            "_________________________________________________________________\n",
            "conv2d_83 (Conv2D)           (None, 22, 22, 96)        1115232   \n",
            "_________________________________________________________________\n",
            "batch_normalization_35 (Batc (None, 22, 22, 96)        384       \n",
            "_________________________________________________________________\n",
            "max_pooling2d_35 (MaxPooling (None, 11, 11, 96)        0         \n",
            "_________________________________________________________________\n",
            "conv2d_85 (Conv2D)           (None, 9, 9, 384)         332160    \n",
            "_________________________________________________________________\n",
            "conv2d_86 (Conv2D)           (None, 7, 7, 384)         1327488   \n",
            "_________________________________________________________________\n",
            "batch_normalization_36 (Batc (None, 7, 7, 384)         1536      \n",
            "_________________________________________________________________\n",
            "max_pooling2d_36 (MaxPooling (None, 3, 3, 384)         0         \n",
            "_________________________________________________________________\n",
            "conv2d_87 (Conv2D)           (None, 3, 3, 256)         884992    \n",
            "_________________________________________________________________\n",
            "batch_normalization_37 (Batc (None, 3, 3, 256)         1024      \n",
            "_________________________________________________________________\n",
            "max_pooling2d_37 (MaxPooling (None, 1, 1, 256)         0         \n",
            "_________________________________________________________________\n",
            "flatten_10 (Flatten)         (None, 256)               0         \n",
            "_________________________________________________________________\n",
            "dense_30 (Dense)             (None, 4096)              1052672   \n",
            "_________________________________________________________________\n",
            "dropout_37 (Dropout)         (None, 4096)              0         \n",
            "_________________________________________________________________\n",
            "dense_31 (Dense)             (None, 4096)              16781312  \n",
            "_________________________________________________________________\n",
            "dropout_38 (Dropout)         (None, 4096)              0         \n",
            "_________________________________________________________________\n",
            "dense_32 (Dense)             (None, 1000)              4097000   \n",
            "=================================================================\n",
            "Total params: 25,628,744\n",
            "Trainable params: 25,627,272\n",
            "Non-trainable params: 1,472\n",
            "_________________________________________________________________\n"
          ],
          "name": "stdout"
        }
      ]
    },
    {
      "cell_type": "code",
      "metadata": {
        "id": "ysU55wfladfT"
      },
      "source": [
        "adam = keras.optimizers.Adam(learning_rate=0.01)\n",
        "model.compile(loss=keras.losses.sparse_categorical_crossentropy, optimizer=adam, metrics=['sparse_categorical_accuracy'])"
      ],
      "execution_count": null,
      "outputs": []
    },
    {
      "cell_type": "code",
      "metadata": {
        "id": "fwnKPK44hz2L",
        "colab": {
          "base_uri": "https://localhost:8080/",
          "height": 1000
        },
        "outputId": "96ceb053-fa6c-49c8-a51f-2f714db6891a"
      },
      "source": [
        "history = model.fit(X_train_full, y_train_full, epochs=30, batch_size=100, validation_data=[X_validation, y_validation])"
      ],
      "execution_count": null,
      "outputs": [
        {
          "output_type": "stream",
          "text": [
            "Train on 42500 samples, validate on 7500 samples\n",
            "Epoch 1/30\n",
            "42500/42500 [==============================] - 17s 396us/sample - loss: 4.6085 - sparse_categorical_accuracy: 0.0100 - val_loss: 4.6302 - val_sparse_categorical_accuracy: 0.0087\n",
            "Epoch 2/30\n",
            "42500/42500 [==============================] - 16s 375us/sample - loss: 4.6083 - sparse_categorical_accuracy: 0.0092 - val_loss: 4.6268 - val_sparse_categorical_accuracy: 0.0085\n",
            "Epoch 3/30\n",
            "42500/42500 [==============================] - 16s 376us/sample - loss: 4.6083 - sparse_categorical_accuracy: 0.0087 - val_loss: 4.6237 - val_sparse_categorical_accuracy: 0.0087\n",
            "Epoch 4/30\n",
            "42500/42500 [==============================] - 16s 376us/sample - loss: 4.6082 - sparse_categorical_accuracy: 0.0090 - val_loss: 4.6252 - val_sparse_categorical_accuracy: 0.0095\n",
            "Epoch 5/30\n",
            "42500/42500 [==============================] - 16s 376us/sample - loss: 4.6083 - sparse_categorical_accuracy: 0.0096 - val_loss: 4.6328 - val_sparse_categorical_accuracy: 0.0079\n",
            "Epoch 6/30\n",
            "42500/42500 [==============================] - 16s 378us/sample - loss: 4.6083 - sparse_categorical_accuracy: 0.0096 - val_loss: 4.6314 - val_sparse_categorical_accuracy: 0.0081\n",
            "Epoch 7/30\n",
            "42500/42500 [==============================] - 16s 376us/sample - loss: 4.6085 - sparse_categorical_accuracy: 0.0090 - val_loss: 4.6217 - val_sparse_categorical_accuracy: 0.0096\n",
            "Epoch 8/30\n",
            "42500/42500 [==============================] - 16s 371us/sample - loss: 4.6082 - sparse_categorical_accuracy: 0.0092 - val_loss: 4.6300 - val_sparse_categorical_accuracy: 0.0096\n",
            "Epoch 9/30\n",
            "42500/42500 [==============================] - 16s 370us/sample - loss: 4.6082 - sparse_categorical_accuracy: 0.0095 - val_loss: 4.6203 - val_sparse_categorical_accuracy: 0.0089\n",
            "Epoch 10/30\n",
            "42500/42500 [==============================] - 16s 370us/sample - loss: 4.6083 - sparse_categorical_accuracy: 0.0100 - val_loss: 4.6268 - val_sparse_categorical_accuracy: 0.0101\n",
            "Epoch 11/30\n",
            "42500/42500 [==============================] - 16s 366us/sample - loss: 4.6083 - sparse_categorical_accuracy: 0.0095 - val_loss: 4.6220 - val_sparse_categorical_accuracy: 0.0127\n",
            "Epoch 12/30\n",
            "42500/42500 [==============================] - 16s 367us/sample - loss: 4.6084 - sparse_categorical_accuracy: 0.0097 - val_loss: 4.6233 - val_sparse_categorical_accuracy: 0.0083\n",
            "Epoch 13/30\n",
            "42500/42500 [==============================] - 16s 367us/sample - loss: 4.6083 - sparse_categorical_accuracy: 0.0092 - val_loss: 4.6296 - val_sparse_categorical_accuracy: 0.0089\n",
            "Epoch 14/30\n",
            "42500/42500 [==============================] - 16s 367us/sample - loss: 4.6083 - sparse_categorical_accuracy: 0.0097 - val_loss: 4.6263 - val_sparse_categorical_accuracy: 0.0092\n",
            "Epoch 15/30\n",
            "42500/42500 [==============================] - 16s 367us/sample - loss: 4.6085 - sparse_categorical_accuracy: 0.0094 - val_loss: 4.6260 - val_sparse_categorical_accuracy: 0.0087\n",
            "Epoch 16/30\n",
            "42500/42500 [==============================] - 16s 368us/sample - loss: 4.6084 - sparse_categorical_accuracy: 0.0093 - val_loss: 4.6248 - val_sparse_categorical_accuracy: 0.0089\n",
            "Epoch 17/30\n",
            "42500/42500 [==============================] - 16s 367us/sample - loss: 4.6085 - sparse_categorical_accuracy: 0.0096 - val_loss: 4.6231 - val_sparse_categorical_accuracy: 0.0076\n",
            "Epoch 18/30\n",
            "42500/42500 [==============================] - 16s 369us/sample - loss: 4.6084 - sparse_categorical_accuracy: 0.0095 - val_loss: 4.6288 - val_sparse_categorical_accuracy: 0.0096\n",
            "Epoch 19/30\n",
            "42500/42500 [==============================] - 16s 368us/sample - loss: 4.6082 - sparse_categorical_accuracy: 0.0097 - val_loss: 4.6280 - val_sparse_categorical_accuracy: 0.0085\n",
            "Epoch 20/30\n",
            "42500/42500 [==============================] - 16s 371us/sample - loss: 4.6083 - sparse_categorical_accuracy: 0.0092 - val_loss: 4.6216 - val_sparse_categorical_accuracy: 0.0089\n",
            "Epoch 21/30\n",
            "42500/42500 [==============================] - 16s 371us/sample - loss: 4.6083 - sparse_categorical_accuracy: 0.0092 - val_loss: 4.6284 - val_sparse_categorical_accuracy: 0.0081\n",
            "Epoch 22/30\n",
            "42500/42500 [==============================] - 16s 371us/sample - loss: 4.6083 - sparse_categorical_accuracy: 0.0094 - val_loss: 4.6289 - val_sparse_categorical_accuracy: 0.0089\n",
            "Epoch 23/30\n",
            "42500/42500 [==============================] - 16s 368us/sample - loss: 4.6083 - sparse_categorical_accuracy: 0.0087 - val_loss: 4.6202 - val_sparse_categorical_accuracy: 0.0077\n",
            "Epoch 24/30\n",
            "42500/42500 [==============================] - 16s 369us/sample - loss: 4.6083 - sparse_categorical_accuracy: 0.0104 - val_loss: 4.6225 - val_sparse_categorical_accuracy: 0.0083\n",
            "Epoch 25/30\n",
            "42500/42500 [==============================] - 16s 369us/sample - loss: 4.6083 - sparse_categorical_accuracy: 0.0097 - val_loss: 4.6256 - val_sparse_categorical_accuracy: 0.0077\n",
            "Epoch 26/30\n",
            "42500/42500 [==============================] - 16s 369us/sample - loss: 4.6084 - sparse_categorical_accuracy: 0.0089 - val_loss: 4.6237 - val_sparse_categorical_accuracy: 0.0089\n",
            "Epoch 27/30\n",
            "42500/42500 [==============================] - 16s 370us/sample - loss: 4.6083 - sparse_categorical_accuracy: 0.0090 - val_loss: 4.6305 - val_sparse_categorical_accuracy: 0.0087\n",
            "Epoch 28/30\n",
            "42500/42500 [==============================] - 16s 371us/sample - loss: 4.6082 - sparse_categorical_accuracy: 0.0091 - val_loss: 4.6218 - val_sparse_categorical_accuracy: 0.0081\n",
            "Epoch 29/30\n",
            "42500/42500 [==============================] - 16s 378us/sample - loss: 4.6083 - sparse_categorical_accuracy: 0.0103 - val_loss: 4.6279 - val_sparse_categorical_accuracy: 0.0076\n",
            "Epoch 30/30\n",
            "42500/42500 [==============================] - 16s 379us/sample - loss: 4.6083 - sparse_categorical_accuracy: 0.0094 - val_loss: 4.6268 - val_sparse_categorical_accuracy: 0.0092\n"
          ],
          "name": "stdout"
        }
      ]
    },
    {
      "cell_type": "code",
      "metadata": {
        "id": "nNIfw8bVQWT1",
        "colab": {
          "base_uri": "https://localhost:8080/",
          "height": 191
        },
        "outputId": "45272e6b-57ec-4f52-fea1-e3ae8348d0aa"
      },
      "source": [
        "history.params"
      ],
      "execution_count": null,
      "outputs": [
        {
          "output_type": "execute_result",
          "data": {
            "text/plain": [
              "{'batch_size': 100,\n",
              " 'do_validation': True,\n",
              " 'epochs': 30,\n",
              " 'metrics': ['loss',\n",
              "  'sparse_categorical_accuracy',\n",
              "  'val_loss',\n",
              "  'val_sparse_categorical_accuracy'],\n",
              " 'samples': 42500,\n",
              " 'steps': 425,\n",
              " 'verbose': 0}"
            ]
          },
          "metadata": {
            "tags": []
          },
          "execution_count": 60
        }
      ]
    },
    {
      "cell_type": "code",
      "metadata": {
        "id": "mgJOFKy3AcPW",
        "colab": {
          "base_uri": "https://localhost:8080/",
          "height": 35
        },
        "outputId": "8d8f2c1c-5f38-4d23-80b9-7097a8914bcc"
      },
      "source": [
        "\n",
        "history.history.keys()"
      ],
      "execution_count": null,
      "outputs": [
        {
          "output_type": "execute_result",
          "data": {
            "text/plain": [
              "dict_keys(['loss', 'sparse_categorical_accuracy', 'val_loss', 'val_sparse_categorical_accuracy'])"
            ]
          },
          "metadata": {
            "tags": []
          },
          "execution_count": 61
        }
      ]
    },
    {
      "cell_type": "code",
      "metadata": {
        "id": "iMRf-GRSDeFz",
        "colab": {
          "base_uri": "https://localhost:8080/",
          "height": 35
        },
        "outputId": "82f61fab-3d48-4561-b738-4c91904d7610"
      },
      "source": [
        "result = model.evaluate(X_test,y_test,verbose=0)\n",
        "print(result)"
      ],
      "execution_count": null,
      "outputs": [
        {
          "output_type": "stream",
          "text": [
            "[4.606596604919433, 0.01]\n"
          ],
          "name": "stdout"
        }
      ]
    },
    {
      "cell_type": "code",
      "metadata": {
        "id": "OOCPO4nTExBz"
      },
      "source": [
        "model.predict(X_test)"
      ],
      "execution_count": null,
      "outputs": []
    },
    {
      "cell_type": "code",
      "metadata": {
        "id": "FKSieDNf0zUd",
        "colab": {
          "base_uri": "https://localhost:8080/",
          "height": 279
        },
        "outputId": "ec397478-8d35-4587-917f-64f70c407fc6"
      },
      "source": [
        "plt.plot(history.history['sparse_categorical_accuracy'])\n",
        "plt.plot(history.history['val_sparse_categorical_accuracy'])\n",
        "plt.ylabel('Accuracy')\n",
        "plt.xlabel('Epoch')\n",
        "plt.legend(['Train', 'Validate'], loc='upper right')\n",
        "plt.show()"
      ],
      "execution_count": null,
      "outputs": [
        {
          "output_type": "display_data",
          "data": {
            "image/png": "[encoded data removed]",
            "text/plain": [
              "<Figure size 432x288 with 1 Axes>"
            ]
          },
          "metadata": {
            "tags": []
          }
        }
      ]
    },
    {
      "cell_type": "code",
      "metadata": {
        "id": "c37P5lXx1OAx",
        "colab": {
          "base_uri": "https://localhost:8080/",
          "height": 279
        },
        "outputId": "ae16cee5-aedc-4c9d-bcdf-192b1d7b92bf"
      },
      "source": [
        "plt.plot(history.history['loss'])\n",
        "plt.plot(history.history['val_loss'])\n",
        "plt.ylabel('Loss')\n",
        "plt.xlabel('Epoch')\n",
        "plt.legend(['Train', 'Validate'], loc='upper right')\n",
        "plt.show()"
      ],
      "execution_count": null,
      "outputs": [
        {
          "output_type": "display_data",
          "data": {
            "image/png": "[encoded data removed]",
            "text/plain": [
              "<Figure size 432x288 with 1 Axes>"
            ]
          },
          "metadata": {
            "tags": []
          }
        }
      ]
    },
    {
      "cell_type": "markdown",
      "metadata": {
        "id": "sFIbyCtb5c8z"
      },
      "source": [
        "Honestly this is one ugly looking model.  I truly do not know where I went wrong. I tried following the Alexnet hiearchy to the tee.  I spent hours trying to optimize it.  At first I thought it was due to learning rate being too fast or too slow however when I increase or decrease it I see the same stagnation for the loss.  \n",
        "\n",
        "Perhaps I didnt implement the normalization layer properly? Or because I used Sequential model over Functional? \n",
        "\n",
        "It is evident I am missing something.  Could you please give feedback to stir me in the right direction? I want to be efficient at creating models.\n",
        "\n",
        "Thank you and have a wonderful day.\n"
      ]
    }
  ]
}